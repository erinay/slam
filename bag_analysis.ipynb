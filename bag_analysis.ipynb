{
 "cells": [
  {
   "cell_type": "code",
   "execution_count": null,
   "metadata": {},
   "outputs": [],
   "source": [
    "\n",
    "%matplotlib widget\n",
    "\n",
    "from pathlib import Path\n",
    "\n",
    "from rosbags.highlevel import AnyReader\n",
    "from rosbags.typesys import Stores, get_typestore\n",
    "\n",
    "import struct\n",
    "import pandas as pd\n",
    "import numpy as np\n",
    "import csv\n",
    "\n",
    "import matplotlib.pyplot as plt\n",
    "from IPython.display import display, clear_output\n",
    "import time\n",
    "# import matplotlib.animation as animation\n",
    "\n",
    "\n",
    "# gui.Application.instance.add_window(vis)\n",
    "# gui.Application.instance.run()"
   ]
  },
  {
   "cell_type": "markdown",
   "metadata": {},
   "source": [
    "#### Extract Sensor Data\n",
    "##### '/livox/imu' publishes sensor_msgs/IMU message\n",
    "###### Raw Msg Def: Header, quaterion orientation, orientation cov, angular velocity, velocity cov, linear acceleration, linear acceleration covariance\n",
    "##### '/livox/lidar' publishes sensor_msgs/PointCloud message\n",
    "The message is organized as follows {'name: (offset, datatype)}\n",
    "###### {'x': (0, 7), 'y': (4, 7), 'z': (8, 7), 'intensity': (12, 7), 'tag': (16, 2), 'line': (17, 2), 'timestamp': (18, 8)}\n",
    "###### uint8 UINT8 = 2, uint8 FLOAT32 = 7, uint8 FLOAT64 = 8\n"
   ]
  },
  {
   "cell_type": "code",
   "execution_count": null,
   "metadata": {},
   "outputs": [],
   "source": [
    "bagpath = Path('no_motion')\n",
    "\n",
    "# Create a type store to use if the bag has no message definitions.\n",
    "typestore = get_typestore(Stores.ROS2_HUMBLE)\n",
    "\n",
    "imu_data = []\n",
    "cloud_data = []\n",
    "\n",
    "header_imu = ['time', 'orientation', 'angular velcoity', 'linear acceleration']\n",
    "header_pc = ['count','x', 'y', 'z', 'intensity','tag','line']\n",
    "\n",
    "# Create reader instance and open for reading.\n",
    "with AnyReader([bagpath], default_typestore=typestore) as reader:\n",
    "    connections = [x for x in reader.connections if x.topic == '/imu_raw/Imu']\n",
    "    count = 0\n",
    "    for connection, timestamp, rawdata in reader.messages(connections=connections):\n",
    "        msg = reader.deserialize(rawdata, connection.msgtype)\n",
    "\n",
    "        if connection.msgtype == 'sensor_msgs/msg/Imu':\n",
    "            orientations = [msg.orientation.x, msg.orientation.y, msg.orientation.z]\n",
    "            ang_velocity = [msg.angular_velocity.x, msg.angular_velocity.y, msg.angular_velocity.z]\n",
    "            lin_acceleration = [msg.linear_acceleration.x, msg.linear_acceleration.y, msg.linear_acceleration.z]\n",
    "\n",
    "            data = [timestamp, orientations, ang_velocity, lin_acceleration]\n",
    "            imu_data.append(data)\n",
    "\n",
    "        elif connection.msgtype == 'sensor_msgs/msg/PointCloud2':\n",
    "            x_all = []\n",
    "            y_all = []\n",
    "            z_all = []\n",
    "            intensity_all = []\n",
    "            tag_all = []\n",
    "            line_all = []\n",
    "\n",
    "            points = msg.data#tolist()\n",
    "            N = int((points.shape[0])/26)\n",
    "            points = points.reshape((N,26))\n",
    "            width = msg.width\n",
    "            height = msg.height\n",
    "            field = msg.fields\n",
    "            # print(width)\n",
    "            # print(height)\n",
    "\n",
    "            # Extract data frin field\n",
    "            field_names = {field.name: (field.offset, field.datatype) for field in msg.fields}\n",
    "            struct_fmt = \"ffffBB\"\n",
    "            f = struct.calcsize('f')\n",
    "            d=struct.calcsize('d')\n",
    "            B = struct.calcsize('B')\n",
    "            for row in points:\n",
    "                x,y,z,intensity,tag,line = struct.unpack(struct_fmt, bytes(row[0:-8]))\n",
    "                # timestamp = struct.unpack('d', bytes(row[-8:]))\n",
    "                # x_all.append(x)\n",
    "                # y_all.append(y)\n",
    "                # z_all.append(z)    \n",
    "                # intensity_all.append(intensity)\n",
    "                # tag_all.append(tag)\n",
    "                # line_all.append(line)\n",
    "                cloud_data.append([count, x,y,z,intensity, tag, line])        #  print(msg.header.frame_id)\n",
    "            count+=1"
   ]
  },
  {
   "cell_type": "code",
   "execution_count": null,
   "metadata": {},
   "outputs": [],
   "source": [
    "headers = ['time', 'orientation', 'angular velcoity', 'linear acceleration']\n",
    "df_imu = pd.DataFrame(imu_data, columns=headers)\n",
    "df_imu.to_csv('imu_nm.csv')"
   ]
  },
  {
   "cell_type": "code",
   "execution_count": null,
   "metadata": {},
   "outputs": [],
   "source": [
    "headers = ['count','x', 'y', 'z', 'intensity','tag','line']\n",
    "df_pc = pd.DataFrame(cloud_data, columns=headers)\n",
    "df_pc.to_csv('point_cloud_nm.csv')"
   ]
  },
  {
   "cell_type": "markdown",
   "metadata": {},
   "source": [
    "Plotting"
   ]
  },
  {
   "cell_type": "code",
   "execution_count": null,
   "metadata": {},
   "outputs": [],
   "source": [
    "pc = pd.read_csv('point_cloud_nm.csv')\n",
    "# Get unique counts (assuming the 'count' column exists)\n",
    "unique_counts = pc['count'].unique()\n",
    "unique_counts.sort()  # Ensure correct order\n",
    "# print(max(pc[\"count\"]))"
   ]
  },
  {
   "cell_type": "code",
   "execution_count": null,
   "metadata": {},
   "outputs": [],
   "source": [
    "fig=plt.figure()\n",
    "ax = fig.add_subplot(projection='3d')\n",
    "sc = ax.scatter([], [], [], c=[], cmap=\"plasma\", marker=\"o\")\n",
    "\n",
    "# Axis labels\n",
    "ax.set_xlabel(\"X\")\n",
    "ax.set_ylabel(\"Y\")\n",
    "ax.set_zlabel(\"Z\")\n",
    "ax.set_title(\"Point Cloud Animation\")\n",
    "\n",
    "\n",
    "for counts in unique_counts:\n",
    "    frame = pc[pc['count']==counts]\n",
    "    points = np.array(frame[['x', 'y', 'z']])\n",
    "    # Clear the previous plot\n",
    "    ax.clear()\n",
    "\n",
    "    # Plot the points for the current count\n",
    "    r = np.sqrt(frame['x']**2+frame['y']**2+frame['z']**2)\n",
    "    ax.scatter(frame['x'], frame['y'], frame['z'], c=r, s=0.1,cmap='inferno')\n",
    "\n",
    "    # Set labels and title\n",
    "    ax.set_xlabel('X')\n",
    "    ax.set_ylabel('Y')\n",
    "    ax.set_zlabel('Z')\n",
    "    ax.set_title(f\"Point Cloud - Count {counts}\")\n",
    "    # Set the viewpoint: We're in the middle, looking outward\n",
    "    ax.view_init(elev=90, azim=90)  # You can change the angles to adjust the view\n",
    "\n",
    "    # Redraw the plot\n",
    "    display(fig)\n",
    "    \n",
    "    # Wait before displaying the next plot (create animation effect)\n",
    "    time.sleep(0.1)  # Adjust the sleep time for speed of animation\n",
    "    \n",
    "    # Clear the output to update the plot\n",
    "    clear_output(wait=True)\n",
    "\n",
    "# Final plot display\n",
    "plt.show()\n"
   ]
  },
  {
   "cell_type": "code",
   "execution_count": null,
   "metadata": {},
   "outputs": [],
   "source": [
    "# # Filter rows where count == 0\n",
    "# filtered_df = pc[pc[\"count\"] == 0]\n",
    "# filtered_df2 = pc[pc[\"count\"]==1]\n",
    "# fig=plt.figure()\n",
    "# ax = fig.add_subplot(projection='3d')\n",
    "# r = np.sqrt(filtered_df['x']**2+filtered_df['y']**2+filtered_df['z']**2)\n",
    "# ax.scatter(filtered_df['x'], filtered_df['y'], filtered_df['z'], c=r, s=0.1,cmap='inferno')\n",
    "\n",
    "# plt.show()"
   ]
  },
  {
   "cell_type": "code",
   "execution_count": null,
   "metadata": {},
   "outputs": [],
   "source": [
    "\n",
    "frame = pc[pc['count']==0]\n",
    "points = np.array(frame[['x', 'y', 'z']])\n",
    "# Clear the previous plot\n",
    "ax.clear()\n",
    "\n",
    "# frame = frame[frame['line']==3]\n",
    "frame = frame[(frame['x']**2+frame['y']**2+frame['z']**2)<=6]\n",
    "# frame = frame[frame['z']<1.25]\n",
    "# Plot the points for the current count\n",
    "r = np.sqrt(frame['x']**2+frame['y']**2+frame['z']**2)\n",
    "print(r)\n",
    "# Filter out points where the radius is less than 2\n",
    "# frame = frame[r <= 3]\n",
    "# Set up the figure and 3D axis\n",
    "fig = plt.figure(figsize=(10, 8))\n",
    "ax = fig.add_subplot(111, projection='3d')\n",
    "\n",
    "# Scatter plot the points\n",
    "sc=ax.scatter(frame['x'], frame['y'], frame['z'], c=r, s=0.25,cmap='plasma')\n",
    "\n",
    "# Set axis labels (optional, to help with orientation)\n",
    "ax.set_xlabel('X[m]')\n",
    "ax.set_ylabel('Y[m]')\n",
    "ax.set_zlabel('Z[m]')\n",
    "\n",
    "# Set the viewpoint: We're in the middle, looking outward\n",
    "ax.view_init(elev=90, azim=90)  # You can change the angles to adjust the view\n",
    "\n",
    "cbar = plt.colorbar(sc)\n",
    "cbar.set_label('Radius (m)')  # Label for the color bar\n",
    "\n",
    "\n",
    "\n",
    "# Show the plot\n",
    "plt.show()"
   ]
  },
  {
   "cell_type": "code",
   "execution_count": null,
   "metadata": {},
   "outputs": [],
   "source": [
    "unique_counts = pc['line'].unique()\n",
    "unique_counts\n"
   ]
  },
  {
   "cell_type": "markdown",
   "metadata": {},
   "source": [
    "Exploring SLAM\n",
    "\n",
    "Trial 1: No Odometry"
   ]
  },
  {
   "cell_type": "code",
   "execution_count": null,
   "metadata": {},
   "outputs": [],
   "source": [
    "# Input data\n",
    "# pick random ramples\n",
    "# Fit model\n",
    "# compute cost\n",
    "# Repeat"
   ]
  },
  {
   "cell_type": "code",
   "execution_count": null,
   "metadata": {},
   "outputs": [],
   "source": []
  }
 ],
 "metadata": {
  "kernelspec": {
   "display_name": "Python 3",
   "language": "python",
   "name": "python3"
  },
  "language_info": {
   "codemirror_mode": {
    "name": "ipython",
    "version": 3
   },
   "file_extension": ".py",
   "mimetype": "text/x-python",
   "name": "python",
   "nbconvert_exporter": "python",
   "pygments_lexer": "ipython3",
   "version": "3.10.12"
  }
 },
 "nbformat": 4,
 "nbformat_minor": 2
}
