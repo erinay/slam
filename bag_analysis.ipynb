{
 "cells": [
  {
   "cell_type": "code",
   "execution_count": 53,
   "metadata": {},
   "outputs": [],
   "source": [
    "from pathlib import Path\n",
    "\n",
    "from rosbags.highlevel import AnyReader\n",
    "from rosbags.typesys import Stores, get_typestore\n",
    "\n",
    "import struct\n",
    "import pandas as pd\n",
    "import numpy as np\n",
    "import csv"
   ]
  },
  {
   "cell_type": "markdown",
   "metadata": {},
   "source": [
    "#### Extract Sensor Data\n",
    "##### '/livox/imu' publishes sensor_msgs/IMU message\n",
    "###### Raw Msg Def: Header, quaterion orientation, orientation cov, angular velocity, velocity cov, linear acceleration, linear acceleration covariance\n",
    "##### '/livox/lidar' publishes sensor_msgs/PointCloud message\n",
    "The message is organized as follows {'name: (offset, datatype)}\n",
    "###### {'x': (0, 7), 'y': (4, 7), 'z': (8, 7), 'intensity': (12, 7), 'tag': (16, 2), 'line': (17, 2), 'timestamp': (18, 8)}\n",
    "###### uint8 UINT8 = 2, uint8 FLOAT32 = 7, uint8 FLOAT64 = 8\n"
   ]
  },
  {
   "cell_type": "code",
   "execution_count": 66,
   "metadata": {},
   "outputs": [],
   "source": [
    "bagpath = Path('no_motion')\n",
    "\n",
    "# Create a type store to use if the bag has no message definitions.\n",
    "typestore = get_typestore(Stores.ROS2_HUMBLE)\n",
    "\n",
    "imu_data = []\n",
    "cloud_data = []\n",
    "\n",
    "# Create reader instance and open for reading.\n",
    "with AnyReader([bagpath], default_typestore=typestore) as reader:\n",
    "    connections = [x for x in reader.connections if x.topic == '/imu_raw/Imu']\n",
    "    for connection, timestamp, rawdata in reader.messages(connections=connections):\n",
    "        msg = reader.deserialize(rawdata, connection.msgtype)\n",
    "\n",
    "        if connection.msgtype == 'sensor_msgs/msg/Imu':\n",
    "            orientations = [msg.orientation.x, msg.orientation.y, msg.orientation.z]\n",
    "            ang_velocity = [msg.angular_velocity.x, msg.angular_velocity.y, msg.angular_velocity.z]\n",
    "            lin_acceleration = [msg.linear_acceleration.x, msg.linear_acceleration.y, msg.linear_acceleration.z]\n",
    "\n",
    "            data = [timestamp, orientations, ang_velocity, lin_acceleration]\n",
    "            imu_data.append(data)\n",
    "\n",
    "        elif connection.msgtype == 'sensor_msgs/msg/PointCloud2':\n",
    "            x_all = []\n",
    "            y_all = []\n",
    "            z_all = []\n",
    "            intensity_all = []\n",
    "            tag_all = []\n",
    "            line_all = []\n",
    "\n",
    "            points = msg.data#tolist()\n",
    "            N = int((points.shape[0])/26)\n",
    "            points = points.reshape((N,26))\n",
    "            width = msg.width\n",
    "            height = msg.height\n",
    "            field = msg.fields\n",
    "\n",
    "            # Extract data frin field\n",
    "            field_names = {field.name: (field.offset, field.datatype) for field in msg.fields}\n",
    "            struct_fmt = \"ffffBB\"\n",
    "            f = struct.calcsize('f')\n",
    "            d=struct.calcsize('d')\n",
    "            B = struct.calcsize('B')\n",
    "            for row in points:\n",
    "                x,y,z,intensity,tag,line = struct.unpack(struct_fmt, bytes(row[0:-8]))\n",
    "                x_all.append(x)\n",
    "                y_all.append(y)\n",
    "                z_all.append(z)\n",
    "                intensity_all.append(intensity)\n",
    "                tag_all.append(tag)\n",
    "                line_all.append(line)\n",
    "\n",
    "\n",
    "            \n",
    "\n",
    "            cloud_data.append([x_all,y_all,z_all,intensity_all,tag_all,line_all])\n",
    "        #  print(msg.header.frame_id)\n"
   ]
  },
  {
   "cell_type": "code",
   "execution_count": 24,
   "metadata": {},
   "outputs": [],
   "source": [
    "with open('imu.csv', 'w', newline='') as file:\n",
    "    writer = csv.writer(file)\n",
    "    for item in imu_data:\n",
    "        writer.writerow([item])"
   ]
  },
  {
   "cell_type": "code",
   "execution_count": 67,
   "metadata": {},
   "outputs": [],
   "source": [
    "with open('point_cloud.csv', 'w', newline='') as file:\n",
    "    writer = csv.writer(file)\n",
    "    for item in cloud_data:\n",
    "        writer.writerow([item])"
   ]
  },
  {
   "cell_type": "markdown",
   "metadata": {},
   "source": [
    "##"
   ]
  },
  {
   "cell_type": "code",
   "execution_count": null,
   "metadata": {},
   "outputs": [],
   "source": []
  }
 ],
 "metadata": {
  "kernelspec": {
   "display_name": "Python 3",
   "language": "python",
   "name": "python3"
  },
  "language_info": {
   "codemirror_mode": {
    "name": "ipython",
    "version": 3
   },
   "file_extension": ".py",
   "mimetype": "text/x-python",
   "name": "python",
   "nbconvert_exporter": "python",
   "pygments_lexer": "ipython3",
   "version": "3.10.12"
  }
 },
 "nbformat": 4,
 "nbformat_minor": 2
}
